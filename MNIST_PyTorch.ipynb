{
 "nbformat": 4,
 "nbformat_minor": 0,
 "metadata": {
  "colab": {
   "provenance": []
  },
  "kernelspec": {
   "name": "python3",
   "display_name": "Python 3"
  },
  "language_info": {
   "name": "python"
  }
 },
 "cells": [
  {
   "cell_type": "markdown",
   "source": [
    "# Solving MNIST Handwritten Digit Recognition with PyTorch\n",
    "\n",
    "## Dataset\n",
    "\n",
    "The MNIST dataset comprises 60,000 grayscale images of handwritten digits (0–9), each sized 28x28 pixels.\n",
    "\n",
    "## Objective\n",
    "\n",
    "Train a model that can predict labels of given images.\n",
    "\n",
    "## Approach\n",
    "\n",
    "- Divide the dataset into two sets\n",
    "  - Training dataset: 50000 samples\n",
    "  - Testing dataset: 10000 samples\n",
    "- Use the training dataset to learn a model\n",
    "- Evaluate the model with testing dataset"
   ],
   "metadata": {
    "id": "vcTnboEP6fet"
   }
  },
  {
   "metadata": {},
   "cell_type": "markdown",
   "source": "# 1. Verify Package Installation"
  },
  {
   "metadata": {},
   "cell_type": "markdown",
   "source": "#### 1.1 Verify python version"
  },
  {
   "metadata": {
    "ExecuteTime": {
     "end_time": "2025-07-09T10:02:51.853867Z",
     "start_time": "2025-07-09T10:02:51.719809Z"
    }
   },
   "cell_type": "code",
   "source": "!python --version",
   "outputs": [
    {
     "name": "stdout",
     "output_type": "stream",
     "text": [
      "Python 3.10.18\r\n"
     ]
    }
   ],
   "execution_count": 18
  },
  {
   "metadata": {},
   "cell_type": "markdown",
   "source": "#### 1.2 Verify the required packages are available."
  },
  {
   "metadata": {
    "ExecuteTime": {
     "end_time": "2025-07-09T10:06:31.918736Z",
     "start_time": "2025-07-09T10:06:31.910575Z"
    }
   },
   "cell_type": "code",
   "source": [
    "from importlib.metadata import version\n",
    "\n",
    "packages = [\n",
    "    \"torch\",\n",
    "    \"torchvision\",\n",
    "    \"matplotlib\"\n",
    "]\n",
    "\n",
    "for package in packages:\n",
    "    print(f\"{package} version:\", version(package))"
   ],
   "outputs": [
    {
     "name": "stdout",
     "output_type": "stream",
     "text": [
      "torch version: 2.7.1\n",
      "torchvision version: 0.22.1\n",
      "matplotlib version: 3.10.0\n"
     ]
    }
   ],
   "execution_count": 23
  },
  {
   "metadata": {},
   "cell_type": "markdown",
   "source": "# 2. Import required packages"
  },
  {
   "cell_type": "code",
   "source": [
    "# The core PyTorch library for building and training neural networks.\n",
    "import torch\n",
    "\n",
    "# Provides utilities for image processing and access to standard datasets like MNIST.\n",
    "from torchvision.datasets import MNIST\n",
    "\n",
    "# transforms are used convert images into tensors aka matrix aka n-d vectors\n",
    "import torchvision.transforms as transforms\n",
    "\n",
    "# Used for plotting and visualizing data.\n",
    "import matplotlib.pyplot as plt\n",
    "\n",
    "# util function\n",
    "from torch.utils.data import random_split\n",
    "\n",
    "# util function to read data\n",
    "from torch.utils.data import DataLoader\n",
    "\n",
    "import torch.nn.functional as F"
   ],
   "metadata": {
    "id": "Ip0LT6xn6i71",
    "ExecuteTime": {
     "end_time": "2025-07-09T10:06:34.179009Z",
     "start_time": "2025-07-09T10:06:34.175780Z"
    }
   },
   "outputs": [],
   "execution_count": 24
  },
  {
   "cell_type": "markdown",
   "source": [
    "# 3. Download Images Dataset\n",
    "\n",
    "- MNIT function will download the dataset from internet and store in local drive at path `/data`\n",
    "- This function returns the entire dataset as list on objects in our case it is list of `PIL.Image.Image`"
   ],
   "metadata": {
    "id": "uiu6y-vF-FQX"
   }
  },
  {
   "cell_type": "code",
   "source": [
    "dataset = MNIST(root = 'data/', download = True)\n",
    "print(\"Dataset Size: \", len(dataset))\n",
    "print(\"Dataset Objects Type:\", dataset[0])"
   ],
   "metadata": {
    "colab": {
     "base_uri": "https://localhost:8080/"
    },
    "id": "e3_XISB6AHVk",
    "outputId": "f0249fef-f148-43e3-ed1e-2f53e45200e5",
    "ExecuteTime": {
     "end_time": "2025-07-09T10:06:43.046168Z",
     "start_time": "2025-07-09T10:06:43.010408Z"
    }
   },
   "outputs": [
    {
     "name": "stdout",
     "output_type": "stream",
     "text": [
      "Dataset Size:  60000\n",
      "Dataset Objects Type: (<PIL.Image.Image image mode=L size=28x28 at 0x14FE3B910>, 5)\n"
     ]
    }
   ],
   "execution_count": 25
  },
  {
   "cell_type": "markdown",
   "source": "# 4. Visualize Images From Dataset",
   "metadata": {
    "id": "UQgNZ0lN-v3Q"
   }
  },
  {
   "cell_type": "code",
   "source": [
    "fig = plt.figure()\n",
    "for i in range(6):\n",
    "  plt.subplot(2, 3, i+1)\n",
    "  plt.tight_layout()\n",
    "  plt.imshow(dataset[i][0], cmap='gray', interpolation='none')\n",
    "  plt.title(\"True Label: {}\".format(dataset[i][1]))"
   ],
   "metadata": {
    "colab": {
     "base_uri": "https://localhost:8080/",
     "height": 448
    },
    "id": "fAvviHibAKYc",
    "outputId": "28802777-263f-44e4-e09b-4f3fdd9214a5",
    "ExecuteTime": {
     "end_time": "2025-07-09T09:44:27.420229Z",
     "start_time": "2025-07-09T09:44:27.110172Z"
    }
   },
   "outputs": [
    {
     "data": {
      "text/plain": [
       "<Figure size 640x480 with 6 Axes>"
      ],
      "image/png": "[encoded data removed]"
     },
     "metadata": {},
     "output_type": "display_data"
    }
   ],
   "execution_count": 16
  },
  {
   "cell_type": "markdown",
   "source": [
    "# 5. Loading Dataset as Tensors\n",
    "\n",
    "Using `torchvision.datasets.MNIST` to load the MNIST handwritten digit dataset.\n",
    "\n",
    "- `root='data/'`: directory to store or load the dataset\n",
    "- `train=True`: Loads the **training set** (60,000 images). Used to train the model.\n",
    "- `train=False`: Loads the **test set** (10,000 images). Used to evaluate model performance after training.\n",
    "- `transform=transforms.ToTensor()`: Converts each image to a PyTorch tensor and normalizes pixel values to the range [0.0, 1.0]\n",
    "\n",
    "This prepares the dataset for training neural networks."
   ],
   "metadata": {
    "id": "Ax1AwV8djVbH"
   }
  },
  {
   "cell_type": "code",
   "source": [
    "mnist_dataset = MNIST(root = 'data/', train = True, transform = transforms.ToTensor())\n",
    "print(mnist_dataset)"
   ],
   "metadata": {
    "colab": {
     "base_uri": "https://localhost:8080/"
    },
    "id": "o4I7D7KKARKp",
    "outputId": "0cef7aa5-fb77-4db2-d506-7ba0e2b2e418",
    "ExecuteTime": {
     "end_time": "2025-07-09T09:46:46.683366Z",
     "start_time": "2025-07-09T09:46:46.663318Z"
    }
   },
   "outputs": [
    {
     "name": "stdout",
     "output_type": "stream",
     "text": [
      "Dataset MNIST\n",
      "    Number of datapoints: 60000\n",
      "    Root location: data/\n",
      "    Split: Train\n",
      "    StandardTransform\n",
      "Transform: ToTensor()\n"
     ]
    }
   ],
   "execution_count": 17
  },
  {
   "cell_type": "code",
   "source": [
    "image_tensor, label = mnist_dataset[0]\n",
    "print(image_tensor.shape, label)"
   ],
   "metadata": {
    "colab": {
     "base_uri": "https://localhost:8080/"
    },
    "id": "gDNW85aKAXbF",
    "outputId": "0dfc479e-5c28-4cc4-a109-683e2d0d4e64",
    "ExecuteTime": {
     "end_time": "2025-07-09T10:10:14.695930Z",
     "start_time": "2025-07-09T10:10:14.691906Z"
    }
   },
   "outputs": [
    {
     "name": "stdout",
     "output_type": "stream",
     "text": [
      "torch.Size([1, 28, 28]) 5\n"
     ]
    }
   ],
   "execution_count": 26
  },
  {
   "cell_type": "code",
   "source": [
    "print(image_tensor[0])\n",
    "print(torch.max(image_tensor), torch.min(image_tensor))"
   ],
   "metadata": {
    "colab": {
     "base_uri": "https://localhost:8080/"
    },
    "id": "dV0KKyh2ojCC",
    "outputId": "86f3ff52-68b6-4393-a911-067427eb8877",
    "ExecuteTime": {
     "end_time": "2025-07-09T10:10:15.742747Z",
     "start_time": "2025-07-09T10:10:15.733518Z"
    }
   },
   "outputs": [
    {
     "name": "stdout",
     "output_type": "stream",
     "text": [
      "tensor([[0.0000, 0.0000, 0.0000, 0.0000, 0.0000, 0.0000, 0.0000, 0.0000, 0.0000,\n",
      "         0.0000, 0.0000, 0.0000, 0.0000, 0.0000, 0.0000, 0.0000, 0.0000, 0.0000,\n",
      "         0.0000, 0.0000, 0.0000, 0.0000, 0.0000, 0.0000, 0.0000, 0.0000, 0.0000,\n",
      "         0.0000],\n",
      "        [0.0000, 0.0000, 0.0000, 0.0000, 0.0000, 0.0000, 0.0000, 0.0000, 0.0000,\n",
      "         0.0000, 0.0000, 0.0000, 0.0000, 0.0000, 0.0000, 0.0000, 0.0000, 0.0000,\n",
      "         0.0000, 0.0000, 0.0000, 0.0000, 0.0000, 0.0000, 0.0000, 0.0000, 0.0000,\n",
      "         0.0000],\n",
      "        [0.0000, 0.0000, 0.0000, 0.0000, 0.0000, 0.0000, 0.0000, 0.0000, 0.0000,\n",
      "         0.0000, 0.0000, 0.0000, 0.0000, 0.0000, 0.0000, 0.0000, 0.0000, 0.0000,\n",
      "         0.0000, 0.0000, 0.0000, 0.0000, 0.0000, 0.0000, 0.0000, 0.0000, 0.0000,\n",
      "         0.0000],\n",
      "        [0.0000, 0.0000, 0.0000, 0.0000, 0.0000, 0.0000, 0.0000, 0.0000, 0.0000,\n",
      "         0.0000, 0.0000, 0.0000, 0.0000, 0.0000, 0.0000, 0.0000, 0.0000, 0.0000,\n",
      "         0.0000, 0.0000, 0.0000, 0.0000, 0.0000, 0.0000, 0.0000, 0.0000, 0.0000,\n",
      "         0.0000],\n",
      "        [0.0000, 0.0000, 0.0000, 0.0000, 0.0000, 0.0000, 0.0000, 0.0000, 0.0000,\n",
      "         0.0000, 0.0000, 0.0000, 0.0000, 0.0000, 0.0000, 0.0000, 0.0000, 0.0000,\n",
      "         0.0000, 0.0000, 0.0000, 0.0000, 0.0000, 0.0000, 0.0000, 0.0000, 0.0000,\n",
      "         0.0000],\n",
      "        [0.0000, 0.0000, 0.0000, 0.0000, 0.0000, 0.0000, 0.0000, 0.0000, 0.0000,\n",
      "         0.0000, 0.0000, 0.0000, 0.0118, 0.0706, 0.0706, 0.0706, 0.4941, 0.5333,\n",
      "         0.6863, 0.1020, 0.6510, 1.0000, 0.9686, 0.4980, 0.0000, 0.0000, 0.0000,\n",
      "         0.0000],\n",
      "        [0.0000, 0.0000, 0.0000, 0.0000, 0.0000, 0.0000, 0.0000, 0.0000, 0.1176,\n",
      "         0.1412, 0.3686, 0.6039, 0.6667, 0.9922, 0.9922, 0.9922, 0.9922, 0.9922,\n",
      "         0.8824, 0.6745, 0.9922, 0.9490, 0.7647, 0.2510, 0.0000, 0.0000, 0.0000,\n",
      "         0.0000],\n",
      "        [0.0000, 0.0000, 0.0000, 0.0000, 0.0000, 0.0000, 0.0000, 0.1922, 0.9333,\n",
      "         0.9922, 0.9922, 0.9922, 0.9922, 0.9922, 0.9922, 0.9922, 0.9922, 0.9843,\n",
      "         0.3647, 0.3216, 0.3216, 0.2196, 0.1529, 0.0000, 0.0000, 0.0000, 0.0000,\n",
      "         0.0000],\n",
      "        [0.0000, 0.0000, 0.0000, 0.0000, 0.0000, 0.0000, 0.0000, 0.0706, 0.8588,\n",
      "         0.9922, 0.9922, 0.9922, 0.9922, 0.9922, 0.7765, 0.7137, 0.9686, 0.9451,\n",
      "         0.0000, 0.0000, 0.0000, 0.0000, 0.0000, 0.0000, 0.0000, 0.0000, 0.0000,\n",
      "         0.0000],\n",
      "        [0.0000, 0.0000, 0.0000, 0.0000, 0.0000, 0.0000, 0.0000, 0.0000, 0.3137,\n",
      "         0.6118, 0.4196, 0.9922, 0.9922, 0.8039, 0.0431, 0.0000, 0.1686, 0.6039,\n",
      "         0.0000, 0.0000, 0.0000, 0.0000, 0.0000, 0.0000, 0.0000, 0.0000, 0.0000,\n",
      "         0.0000],\n",
      "        [0.0000, 0.0000, 0.0000, 0.0000, 0.0000, 0.0000, 0.0000, 0.0000, 0.0000,\n",
      "         0.0549, 0.0039, 0.6039, 0.9922, 0.3529, 0.0000, 0.0000, 0.0000, 0.0000,\n",
      "         0.0000, 0.0000, 0.0000, 0.0000, 0.0000, 0.0000, 0.0000, 0.0000, 0.0000,\n",
      "         0.0000],\n",
      "        [0.0000, 0.0000, 0.0000, 0.0000, 0.0000, 0.0000, 0.0000, 0.0000, 0.0000,\n",
      "         0.0000, 0.0000, 0.5451, 0.9922, 0.7451, 0.0078, 0.0000, 0.0000, 0.0000,\n",
      "         0.0000, 0.0000, 0.0000, 0.0000, 0.0000, 0.0000, 0.0000, 0.0000, 0.0000,\n",
      "         0.0000],\n",
      "        [0.0000, 0.0000, 0.0000, 0.0000, 0.0000, 0.0000, 0.0000, 0.0000, 0.0000,\n",
      "         0.0000, 0.0000, 0.0431, 0.7451, 0.9922, 0.2745, 0.0000, 0.0000, 0.0000,\n",
      "         0.0000, 0.0000, 0.0000, 0.0000, 0.0000, 0.0000, 0.0000, 0.0000, 0.0000,\n",
      "         0.0000],\n",
      "        [0.0000, 0.0000, 0.0000, 0.0000, 0.0000, 0.0000, 0.0000, 0.0000, 0.0000,\n",
      "         0.0000, 0.0000, 0.0000, 0.1373, 0.9451, 0.8824, 0.6275, 0.4235, 0.0039,\n",
      "         0.0000, 0.0000, 0.0000, 0.0000, 0.0000, 0.0000, 0.0000, 0.0000, 0.0000,\n",
      "         0.0000],\n",
      "        [0.0000, 0.0000, 0.0000, 0.0000, 0.0000, 0.0000, 0.0000, 0.0000, 0.0000,\n",
      "         0.0000, 0.0000, 0.0000, 0.0000, 0.3176, 0.9412, 0.9922, 0.9922, 0.4667,\n",
      "         0.0980, 0.0000, 0.0000, 0.0000, 0.0000, 0.0000, 0.0000, 0.0000, 0.0000,\n",
      "         0.0000],\n",
      "        [0.0000, 0.0000, 0.0000, 0.0000, 0.0000, 0.0000, 0.0000, 0.0000, 0.0000,\n",
      "         0.0000, 0.0000, 0.0000, 0.0000, 0.0000, 0.1765, 0.7294, 0.9922, 0.9922,\n",
      "         0.5882, 0.1059, 0.0000, 0.0000, 0.0000, 0.0000, 0.0000, 0.0000, 0.0000,\n",
      "         0.0000],\n",
      "        [0.0000, 0.0000, 0.0000, 0.0000, 0.0000, 0.0000, 0.0000, 0.0000, 0.0000,\n",
      "         0.0000, 0.0000, 0.0000, 0.0000, 0.0000, 0.0000, 0.0627, 0.3647, 0.9882,\n",
      "         0.9922, 0.7333, 0.0000, 0.0000, 0.0000, 0.0000, 0.0000, 0.0000, 0.0000,\n",
      "         0.0000],\n",
      "        [0.0000, 0.0000, 0.0000, 0.0000, 0.0000, 0.0000, 0.0000, 0.0000, 0.0000,\n",
      "         0.0000, 0.0000, 0.0000, 0.0000, 0.0000, 0.0000, 0.0000, 0.0000, 0.9765,\n",
      "         0.9922, 0.9765, 0.2510, 0.0000, 0.0000, 0.0000, 0.0000, 0.0000, 0.0000,\n",
      "         0.0000],\n",
      "        [0.0000, 0.0000, 0.0000, 0.0000, 0.0000, 0.0000, 0.0000, 0.0000, 0.0000,\n",
      "         0.0000, 0.0000, 0.0000, 0.0000, 0.0000, 0.1804, 0.5098, 0.7176, 0.9922,\n",
      "         0.9922, 0.8118, 0.0078, 0.0000, 0.0000, 0.0000, 0.0000, 0.0000, 0.0000,\n",
      "         0.0000],\n",
      "        [0.0000, 0.0000, 0.0000, 0.0000, 0.0000, 0.0000, 0.0000, 0.0000, 0.0000,\n",
      "         0.0000, 0.0000, 0.0000, 0.1529, 0.5804, 0.8980, 0.9922, 0.9922, 0.9922,\n",
      "         0.9804, 0.7137, 0.0000, 0.0000, 0.0000, 0.0000, 0.0000, 0.0000, 0.0000,\n",
      "         0.0000],\n",
      "        [0.0000, 0.0000, 0.0000, 0.0000, 0.0000, 0.0000, 0.0000, 0.0000, 0.0000,\n",
      "         0.0000, 0.0941, 0.4471, 0.8667, 0.9922, 0.9922, 0.9922, 0.9922, 0.7882,\n",
      "         0.3059, 0.0000, 0.0000, 0.0000, 0.0000, 0.0000, 0.0000, 0.0000, 0.0000,\n",
      "         0.0000],\n",
      "        [0.0000, 0.0000, 0.0000, 0.0000, 0.0000, 0.0000, 0.0000, 0.0000, 0.0902,\n",
      "         0.2588, 0.8353, 0.9922, 0.9922, 0.9922, 0.9922, 0.7765, 0.3176, 0.0078,\n",
      "         0.0000, 0.0000, 0.0000, 0.0000, 0.0000, 0.0000, 0.0000, 0.0000, 0.0000,\n",
      "         0.0000],\n",
      "        [0.0000, 0.0000, 0.0000, 0.0000, 0.0000, 0.0000, 0.0706, 0.6706, 0.8588,\n",
      "         0.9922, 0.9922, 0.9922, 0.9922, 0.7647, 0.3137, 0.0353, 0.0000, 0.0000,\n",
      "         0.0000, 0.0000, 0.0000, 0.0000, 0.0000, 0.0000, 0.0000, 0.0000, 0.0000,\n",
      "         0.0000],\n",
      "        [0.0000, 0.0000, 0.0000, 0.0000, 0.2157, 0.6745, 0.8863, 0.9922, 0.9922,\n",
      "         0.9922, 0.9922, 0.9569, 0.5216, 0.0431, 0.0000, 0.0000, 0.0000, 0.0000,\n",
      "         0.0000, 0.0000, 0.0000, 0.0000, 0.0000, 0.0000, 0.0000, 0.0000, 0.0000,\n",
      "         0.0000],\n",
      "        [0.0000, 0.0000, 0.0000, 0.0000, 0.5333, 0.9922, 0.9922, 0.9922, 0.8314,\n",
      "         0.5294, 0.5176, 0.0627, 0.0000, 0.0000, 0.0000, 0.0000, 0.0000, 0.0000,\n",
      "         0.0000, 0.0000, 0.0000, 0.0000, 0.0000, 0.0000, 0.0000, 0.0000, 0.0000,\n",
      "         0.0000],\n",
      "        [0.0000, 0.0000, 0.0000, 0.0000, 0.0000, 0.0000, 0.0000, 0.0000, 0.0000,\n",
      "         0.0000, 0.0000, 0.0000, 0.0000, 0.0000, 0.0000, 0.0000, 0.0000, 0.0000,\n",
      "         0.0000, 0.0000, 0.0000, 0.0000, 0.0000, 0.0000, 0.0000, 0.0000, 0.0000,\n",
      "         0.0000],\n",
      "        [0.0000, 0.0000, 0.0000, 0.0000, 0.0000, 0.0000, 0.0000, 0.0000, 0.0000,\n",
      "         0.0000, 0.0000, 0.0000, 0.0000, 0.0000, 0.0000, 0.0000, 0.0000, 0.0000,\n",
      "         0.0000, 0.0000, 0.0000, 0.0000, 0.0000, 0.0000, 0.0000, 0.0000, 0.0000,\n",
      "         0.0000],\n",
      "        [0.0000, 0.0000, 0.0000, 0.0000, 0.0000, 0.0000, 0.0000, 0.0000, 0.0000,\n",
      "         0.0000, 0.0000, 0.0000, 0.0000, 0.0000, 0.0000, 0.0000, 0.0000, 0.0000,\n",
      "         0.0000, 0.0000, 0.0000, 0.0000, 0.0000, 0.0000, 0.0000, 0.0000, 0.0000,\n",
      "         0.0000]])\n",
      "tensor(1.) tensor(0.)\n"
     ]
    }
   ],
   "execution_count": 27
  },
  {
   "cell_type": "code",
   "source": "plt.imshow(image_tensor[0], cmap = 'gray')",
   "metadata": {
    "colab": {
     "base_uri": "https://localhost:8080/",
     "height": 448
    },
    "id": "JcrYw3w3o6u-",
    "outputId": "50a213d5-f586-4d7e-cbff-ab6bc755f45c",
    "ExecuteTime": {
     "end_time": "2025-07-09T10:20:27.636319Z",
     "start_time": "2025-07-09T10:20:27.571399Z"
    }
   },
   "outputs": [
    {
     "data": {
      "text/plain": [
       "<matplotlib.image.AxesImage at 0x158088f40>"
      ]
     },
     "execution_count": 28,
     "metadata": {},
     "output_type": "execute_result"
    },
    {
     "data": {
      "text/plain": [
       "<Figure size 640x480 with 1 Axes>"
      ],
      "image/png": "[encoded data removed]"
     },
     "metadata": {},
     "output_type": "display_data"
    }
   ],
   "execution_count": 28
  },
  {
   "cell_type": "code",
   "source": [
    "train_data, validation_data = random_split(mnist_dataset, [50000, 10000])\n",
    "# Print the length of train and validation datasets\n",
    "print(\"Length of Train Datasets: \", len(train_data))\n",
    "print(\"Length of Validation Datasets: \", len(validation_data))"
   ],
   "metadata": {
    "colab": {
     "base_uri": "https://localhost:8080/"
    },
    "id": "8ROWXKkhpQF-",
    "outputId": "079af85b-c953-4cec-cba1-f10bee4bad8e"
   },
   "execution_count": null,
   "outputs": [
    {
     "output_type": "stream",
     "name": "stdout",
     "text": [
      "length of Train Datasets:  50000\n",
      "length of Validation Datasets:  10000\n"
     ]
    }
   ]
  },
  {
   "cell_type": "code",
   "source": [
    "batch_size = 128\n",
    "train_data_loader = DataLoader(train_data, batch_size, shuffle = True)\n",
    "validation_data_loader = DataLoader(validation_data, batch_size, shuffle = False)"
   ],
   "metadata": {
    "id": "F3a4Sop9pTmk"
   },
   "execution_count": null,
   "outputs": []
  },
  {
   "cell_type": "markdown",
   "source": [
    "### What is nn.Linear?\n",
    "Represented by the formula `y = xA^T + b`, where `x` is the input, `A` is the weight, `b` is the bias, and `y` is the output.\n",
    "\n",
    "Parameters: `in_features` and `out_features`, which represent the number of input and output features.\n",
    "\n",
    "`A` is randomly initialized weight matrix of size `out_features x in_features`.\n",
    "\n",
    "`b` is randomly initialized of size `out_features x 1`."
   ],
   "metadata": {
    "id": "Qv6fxJVDISJW"
   }
  },
  {
   "cell_type": "code",
   "source": [
    "import torch.nn as nn\n",
    "\n",
    "input_size = 28 * 28\n",
    "num_classes = 10\n",
    "\n",
    "# Logistic regression model\n",
    "model = nn.Linear(in_features=input_size, out_features=num_classes)\n",
    "print(model.weight.shape)\n",
    "print(model.weight)\n",
    "print(model.bias.shape)\n",
    "print(model.bias)"
   ],
   "metadata": {
    "colab": {
     "base_uri": "https://localhost:8080/"
    },
    "id": "h8hs_r3qpYgI",
    "outputId": "8496e6ae-a9ea-414a-9ce3-6a2b00fa32d4"
   },
   "execution_count": null,
   "outputs": [
    {
     "output_type": "stream",
     "name": "stdout",
     "text": [
      "torch.Size([10, 784])\n",
      "Parameter containing:\n",
      "tensor([[-0.0309, -0.0010,  0.0019,  ...,  0.0216, -0.0119,  0.0211],\n",
      "        [-0.0159,  0.0176, -0.0324,  ..., -0.0178, -0.0150,  0.0118],\n",
      "        [ 0.0229, -0.0340,  0.0156,  ..., -0.0222, -0.0111, -0.0108],\n",
      "        ...,\n",
      "        [-0.0269, -0.0179,  0.0225,  ...,  0.0026, -0.0232,  0.0204],\n",
      "        [-0.0114, -0.0117,  0.0181,  ..., -0.0206,  0.0193,  0.0288],\n",
      "        [ 0.0146,  0.0198,  0.0348,  ...,  0.0325,  0.0184, -0.0003]],\n",
      "       requires_grad=True)\n",
      "torch.Size([10])\n",
      "Parameter containing:\n",
      "tensor([ 0.0182,  0.0044, -0.0202,  0.0096, -0.0127,  0.0007, -0.0355,  0.0303,\n",
      "         0.0134, -0.0076], requires_grad=True)\n"
     ]
    }
   ]
  },
  {
   "cell_type": "code",
   "source": [
    "for images, labels in train_loader:\n",
    "    print(labels)\n",
    "    print(images.shape)\n",
    "    outputs = model(images)\n",
    "    break"
   ],
   "metadata": {
    "colab": {
     "base_uri": "https://localhost:8080/",
     "height": 472
    },
    "id": "XfhHPB9rpdoa",
    "outputId": "781731ac-5b7a-4615-c0b1-62838b916ae1"
   },
   "execution_count": null,
   "outputs": [
    {
     "output_type": "stream",
     "name": "stdout",
     "text": [
      "tensor([7, 1, 9, 4, 5, 1, 9, 3, 4, 4, 1, 1, 1, 3, 4, 1, 1, 9, 9, 0, 7, 8, 8, 2,\n",
      "        1, 3, 3, 6, 7, 6, 8, 2, 6, 1, 6, 2, 1, 1, 4, 0, 5, 7, 1, 8, 5, 9, 7, 8,\n",
      "        9, 6, 0, 4, 7, 7, 4, 3, 8, 7, 2, 2, 8, 6, 7, 2, 4, 6, 1, 9, 7, 2, 5, 5,\n",
      "        9, 4, 3, 1, 7, 5, 3, 7, 4, 6, 3, 4, 0, 4, 9, 4, 2, 2, 2, 5, 3, 0, 6, 3,\n",
      "        3, 6, 2, 5, 9, 6, 3, 6, 5, 2, 0, 2, 0, 4, 6, 2, 0, 9, 4, 9, 8, 8, 1, 3,\n",
      "        7, 6, 9, 1, 4, 8, 2, 2])\n",
      "torch.Size([128, 1, 28, 28])\n"
     ]
    },
    {
     "output_type": "error",
     "ename": "RuntimeError",
     "evalue": "mat1 and mat2 shapes cannot be multiplied (3584x28 and 784x10)",
     "traceback": [
      "\u001B[0;31m---------------------------------------------------------------------------\u001B[0m",
      "\u001B[0;31mRuntimeError\u001B[0m                              Traceback (most recent call last)",
      "\u001B[0;32m<ipython-input-11-72eddc737460>\u001B[0m in \u001B[0;36m<cell line: 0>\u001B[0;34m()\u001B[0m\n\u001B[1;32m      2\u001B[0m     \u001B[0mprint\u001B[0m\u001B[0;34m(\u001B[0m\u001B[0mlabels\u001B[0m\u001B[0;34m)\u001B[0m\u001B[0;34m\u001B[0m\u001B[0;34m\u001B[0m\u001B[0m\n\u001B[1;32m      3\u001B[0m     \u001B[0mprint\u001B[0m\u001B[0;34m(\u001B[0m\u001B[0mimages\u001B[0m\u001B[0;34m.\u001B[0m\u001B[0mshape\u001B[0m\u001B[0;34m)\u001B[0m\u001B[0;34m\u001B[0m\u001B[0;34m\u001B[0m\u001B[0m\n\u001B[0;32m----> 4\u001B[0;31m     \u001B[0moutputs\u001B[0m \u001B[0;34m=\u001B[0m \u001B[0mmodel\u001B[0m\u001B[0;34m(\u001B[0m\u001B[0mimages\u001B[0m\u001B[0;34m)\u001B[0m\u001B[0;34m\u001B[0m\u001B[0;34m\u001B[0m\u001B[0m\n\u001B[0m\u001B[1;32m      5\u001B[0m     \u001B[0;32mbreak\u001B[0m\u001B[0;34m\u001B[0m\u001B[0;34m\u001B[0m\u001B[0m\n",
      "\u001B[0;32m/usr/local/lib/python3.11/dist-packages/torch/nn/modules/module.py\u001B[0m in \u001B[0;36m_wrapped_call_impl\u001B[0;34m(self, *args, **kwargs)\u001B[0m\n\u001B[1;32m   1737\u001B[0m             \u001B[0;32mreturn\u001B[0m \u001B[0mself\u001B[0m\u001B[0;34m.\u001B[0m\u001B[0m_compiled_call_impl\u001B[0m\u001B[0;34m(\u001B[0m\u001B[0;34m*\u001B[0m\u001B[0margs\u001B[0m\u001B[0;34m,\u001B[0m \u001B[0;34m**\u001B[0m\u001B[0mkwargs\u001B[0m\u001B[0;34m)\u001B[0m  \u001B[0;31m# type: ignore[misc]\u001B[0m\u001B[0;34m\u001B[0m\u001B[0;34m\u001B[0m\u001B[0m\n\u001B[1;32m   1738\u001B[0m         \u001B[0;32melse\u001B[0m\u001B[0;34m:\u001B[0m\u001B[0;34m\u001B[0m\u001B[0;34m\u001B[0m\u001B[0m\n\u001B[0;32m-> 1739\u001B[0;31m             \u001B[0;32mreturn\u001B[0m \u001B[0mself\u001B[0m\u001B[0;34m.\u001B[0m\u001B[0m_call_impl\u001B[0m\u001B[0;34m(\u001B[0m\u001B[0;34m*\u001B[0m\u001B[0margs\u001B[0m\u001B[0;34m,\u001B[0m \u001B[0;34m**\u001B[0m\u001B[0mkwargs\u001B[0m\u001B[0;34m)\u001B[0m\u001B[0;34m\u001B[0m\u001B[0;34m\u001B[0m\u001B[0m\n\u001B[0m\u001B[1;32m   1740\u001B[0m \u001B[0;34m\u001B[0m\u001B[0m\n\u001B[1;32m   1741\u001B[0m     \u001B[0;31m# torchrec tests the code consistency with the following code\u001B[0m\u001B[0;34m\u001B[0m\u001B[0;34m\u001B[0m\u001B[0m\n",
      "\u001B[0;32m/usr/local/lib/python3.11/dist-packages/torch/nn/modules/module.py\u001B[0m in \u001B[0;36m_call_impl\u001B[0;34m(self, *args, **kwargs)\u001B[0m\n\u001B[1;32m   1748\u001B[0m                 \u001B[0;32mor\u001B[0m \u001B[0m_global_backward_pre_hooks\u001B[0m \u001B[0;32mor\u001B[0m \u001B[0m_global_backward_hooks\u001B[0m\u001B[0;34m\u001B[0m\u001B[0;34m\u001B[0m\u001B[0m\n\u001B[1;32m   1749\u001B[0m                 or _global_forward_hooks or _global_forward_pre_hooks):\n\u001B[0;32m-> 1750\u001B[0;31m             \u001B[0;32mreturn\u001B[0m \u001B[0mforward_call\u001B[0m\u001B[0;34m(\u001B[0m\u001B[0;34m*\u001B[0m\u001B[0margs\u001B[0m\u001B[0;34m,\u001B[0m \u001B[0;34m**\u001B[0m\u001B[0mkwargs\u001B[0m\u001B[0;34m)\u001B[0m\u001B[0;34m\u001B[0m\u001B[0;34m\u001B[0m\u001B[0m\n\u001B[0m\u001B[1;32m   1751\u001B[0m \u001B[0;34m\u001B[0m\u001B[0m\n\u001B[1;32m   1752\u001B[0m         \u001B[0mresult\u001B[0m \u001B[0;34m=\u001B[0m \u001B[0;32mNone\u001B[0m\u001B[0;34m\u001B[0m\u001B[0;34m\u001B[0m\u001B[0m\n",
      "\u001B[0;32m/usr/local/lib/python3.11/dist-packages/torch/nn/modules/linear.py\u001B[0m in \u001B[0;36mforward\u001B[0;34m(self, input)\u001B[0m\n\u001B[1;32m    123\u001B[0m \u001B[0;34m\u001B[0m\u001B[0m\n\u001B[1;32m    124\u001B[0m     \u001B[0;32mdef\u001B[0m \u001B[0mforward\u001B[0m\u001B[0;34m(\u001B[0m\u001B[0mself\u001B[0m\u001B[0;34m,\u001B[0m \u001B[0minput\u001B[0m\u001B[0;34m:\u001B[0m \u001B[0mTensor\u001B[0m\u001B[0;34m)\u001B[0m \u001B[0;34m->\u001B[0m \u001B[0mTensor\u001B[0m\u001B[0;34m:\u001B[0m\u001B[0;34m\u001B[0m\u001B[0;34m\u001B[0m\u001B[0m\n\u001B[0;32m--> 125\u001B[0;31m         \u001B[0;32mreturn\u001B[0m \u001B[0mF\u001B[0m\u001B[0;34m.\u001B[0m\u001B[0mlinear\u001B[0m\u001B[0;34m(\u001B[0m\u001B[0minput\u001B[0m\u001B[0;34m,\u001B[0m \u001B[0mself\u001B[0m\u001B[0;34m.\u001B[0m\u001B[0mweight\u001B[0m\u001B[0;34m,\u001B[0m \u001B[0mself\u001B[0m\u001B[0;34m.\u001B[0m\u001B[0mbias\u001B[0m\u001B[0;34m)\u001B[0m\u001B[0;34m\u001B[0m\u001B[0;34m\u001B[0m\u001B[0m\n\u001B[0m\u001B[1;32m    126\u001B[0m \u001B[0;34m\u001B[0m\u001B[0m\n\u001B[1;32m    127\u001B[0m     \u001B[0;32mdef\u001B[0m \u001B[0mextra_repr\u001B[0m\u001B[0;34m(\u001B[0m\u001B[0mself\u001B[0m\u001B[0;34m)\u001B[0m \u001B[0;34m->\u001B[0m \u001B[0mstr\u001B[0m\u001B[0;34m:\u001B[0m\u001B[0;34m\u001B[0m\u001B[0;34m\u001B[0m\u001B[0m\n",
      "\u001B[0;31mRuntimeError\u001B[0m: mat1 and mat2 shapes cannot be multiplied (3584x28 and 784x10)"
     ]
    }
   ]
  },
  {
   "cell_type": "code",
   "source": [
    "class MnistModel(nn.Module):\n",
    "    def __init__(self):\n",
    "        super().__init__()\n",
    "        self.linear = nn.Linear(input_size, num_classes)\n",
    "\n",
    "    def forward(self, xb):\n",
    "        xb = xb.reshape(-1, 784)\n",
    "        print(xb)\n",
    "        out = self.linear(xb)\n",
    "        print(out)\n",
    "        return(out)\n",
    "\n",
    "model = MnistModel()\n",
    "print(model.linear.weight.shape, model.linear.bias.shape)\n",
    "list(model.parameters())"
   ],
   "metadata": {
    "colab": {
     "base_uri": "https://localhost:8080/"
    },
    "id": "0PYMmi1pp1BT",
    "outputId": "8a78112e-a749-4665-9d20-a5e131667cd3"
   },
   "execution_count": null,
   "outputs": [
    {
     "output_type": "stream",
     "name": "stdout",
     "text": [
      "torch.Size([10, 784]) torch.Size([10])\n"
     ]
    },
    {
     "output_type": "execute_result",
     "data": {
      "text/plain": [
       "[Parameter containing:\n",
       " tensor([[ 0.0218,  0.0145,  0.0202,  ..., -0.0048,  0.0262, -0.0059],\n",
       "         [-0.0060, -0.0294, -0.0209,  ..., -0.0352, -0.0336,  0.0228],\n",
       "         [-0.0043,  0.0207, -0.0115,  ...,  0.0053, -0.0123,  0.0258],\n",
       "         ...,\n",
       "         [-0.0345, -0.0172, -0.0030,  ..., -0.0068, -0.0122, -0.0195],\n",
       "         [ 0.0297,  0.0213, -0.0254,  ...,  0.0327, -0.0030, -0.0042],\n",
       "         [-0.0258, -0.0227, -0.0244,  ...,  0.0087, -0.0064,  0.0053]],\n",
       "        requires_grad=True),\n",
       " Parameter containing:\n",
       " tensor([-0.0045, -0.0264,  0.0212, -0.0165, -0.0287,  0.0285,  0.0279, -0.0162,\n",
       "          0.0158,  0.0205], requires_grad=True)]"
      ]
     },
     "metadata": {},
     "execution_count": 11
    }
   ]
  },
  {
   "cell_type": "code",
   "source": [
    "for images, labels in train_loader:\n",
    "    outputs = model(images)\n",
    "    break\n",
    "\n",
    "print('outputs shape: ', outputs.shape)\n",
    "print('Sample outputs: \\n', outputs[:2].data)"
   ],
   "metadata": {
    "colab": {
     "base_uri": "https://localhost:8080/"
    },
    "id": "ozCXQ3Fjp7Mg",
    "outputId": "4d17d761-7bb1-47d6-8ab9-61d6294011fc"
   },
   "execution_count": null,
   "outputs": [
    {
     "output_type": "stream",
     "name": "stdout",
     "text": [
      "tensor([[0., 0., 0.,  ..., 0., 0., 0.],\n",
      "        [0., 0., 0.,  ..., 0., 0., 0.],\n",
      "        [0., 0., 0.,  ..., 0., 0., 0.],\n",
      "        ...,\n",
      "        [0., 0., 0.,  ..., 0., 0., 0.],\n",
      "        [0., 0., 0.,  ..., 0., 0., 0.],\n",
      "        [0., 0., 0.,  ..., 0., 0., 0.]])\n",
      "tensor([[ 0.0232, -0.0620,  0.3258,  ..., -0.1480, -0.1405, -0.0597],\n",
      "        [ 0.0524, -0.1108,  0.1317,  ...,  0.0046,  0.0529, -0.2438],\n",
      "        [ 0.0376, -0.3335,  0.0774,  ..., -0.0108,  0.0681, -0.0923],\n",
      "        ...,\n",
      "        [ 0.0437, -0.0724, -0.0610,  ..., -0.2252,  0.1096,  0.2888],\n",
      "        [ 0.2252, -0.0049,  0.2945,  ..., -0.4428, -0.2274, -0.1417],\n",
      "        [-0.0734,  0.1218,  0.0845,  ..., -0.1930,  0.2174,  0.1501]],\n",
      "       grad_fn=<AddmmBackward0>)\n",
      "outputs shape:  torch.Size([128, 10])\n",
      "Sample outputs: \n",
      " tensor([[ 0.0232, -0.0620,  0.3258,  0.1417, -0.2579,  0.6423,  0.1465, -0.1480,\n",
      "         -0.1405, -0.0597],\n",
      "        [ 0.0524, -0.1108,  0.1317,  0.3370, -0.2044,  0.5397, -0.2190,  0.0046,\n",
      "          0.0529, -0.2438]])\n"
     ]
    }
   ]
  },
  {
   "cell_type": "code",
   "source": [
    "probs = F.softmax(outputs, dim = 1)\n",
    "\n",
    "## checking at sample probabilities\n",
    "print(\"Sample probabilities:\\n\", probs[:2].data)\n",
    "\n",
    "print(\"\\n\")\n",
    "## Add up the probabilities of an output row\n",
    "print(\"Sum: \", torch.sum(probs[0]).item())\n",
    "max_probs, preds = torch.max(probs, dim = 1)\n",
    "print(\"\\n\")\n",
    "print(preds)\n",
    "print(\"\\n\")\n",
    "print(max_probs)"
   ],
   "metadata": {
    "colab": {
     "base_uri": "https://localhost:8080/"
    },
    "id": "zF7ipzUtqHLI",
    "outputId": "79f6a2e7-fc35-4fbc-b598-23e28bfb6a77"
   },
   "execution_count": null,
   "outputs": [
    {
     "output_type": "stream",
     "name": "stdout",
     "text": [
      "Sample probabilities:\n",
      " tensor([[0.0930, 0.0854, 0.1259, 0.1047, 0.0702, 0.1727, 0.1052, 0.0784, 0.0790,\n",
      "         0.0856],\n",
      "        [0.0988, 0.0839, 0.1069, 0.1313, 0.0764, 0.1608, 0.0753, 0.0942, 0.0988,\n",
      "         0.0735]])\n",
      "\n",
      "\n",
      "Sum:  0.9999998807907104\n",
      "\n",
      "\n",
      "tensor([5, 5, 5, 3, 1, 5, 1, 5, 3, 3, 9, 5, 6, 3, 9, 5, 2, 5, 1, 3, 3, 0, 3, 5,\n",
      "        3, 5, 5, 2, 5, 1, 5, 9, 5, 5, 9, 3, 3, 2, 8, 5, 5, 8, 8, 1, 5, 8, 5, 5,\n",
      "        2, 7, 3, 5, 0, 9, 6, 1, 5, 2, 9, 5, 5, 3, 5, 5, 3, 3, 5, 3, 3, 2, 5, 9,\n",
      "        3, 2, 9, 8, 5, 0, 9, 3, 5, 6, 5, 5, 3, 3, 5, 2, 5, 5, 5, 5, 2, 5, 5, 9,\n",
      "        3, 9, 5, 8, 3, 0, 2, 2, 5, 5, 3, 3, 2, 1, 5, 2, 5, 8, 0, 1, 3, 3, 5, 3,\n",
      "        5, 9, 9, 3, 3, 9, 2, 3])\n",
      "\n",
      "\n",
      "tensor([0.1727, 0.1608, 0.1343, 0.1324, 0.1597, 0.1827, 0.1188, 0.1266, 0.1307,\n",
      "        0.1285, 0.1166, 0.1443, 0.1242, 0.1258, 0.1179, 0.1182, 0.1441, 0.1346,\n",
      "        0.1236, 0.1433, 0.1168, 0.1286, 0.1252, 0.1548, 0.1313, 0.1593, 0.1384,\n",
      "        0.1358, 0.1599, 0.1260, 0.1408, 0.1191, 0.1262, 0.1107, 0.1269, 0.1306,\n",
      "        0.1274, 0.1203, 0.1175, 0.1175, 0.1143, 0.1207, 0.1224, 0.1152, 0.1536,\n",
      "        0.1303, 0.1404, 0.1519, 0.1147, 0.1164, 0.1223, 0.1208, 0.1174, 0.1238,\n",
      "        0.1219, 0.1216, 0.1309, 0.1209, 0.1124, 0.1289, 0.1522, 0.1125, 0.1282,\n",
      "        0.1446, 0.1427, 0.1218, 0.1267, 0.1276, 0.1355, 0.1307, 0.1273, 0.1436,\n",
      "        0.1421, 0.1214, 0.1144, 0.1383, 0.1353, 0.1164, 0.1146, 0.1521, 0.1322,\n",
      "        0.1353, 0.1567, 0.1248, 0.1274, 0.1154, 0.1298, 0.1135, 0.1637, 0.1208,\n",
      "        0.1403, 0.1547, 0.1222, 0.1230, 0.1505, 0.1227, 0.1272, 0.1266, 0.1518,\n",
      "        0.1189, 0.1174, 0.1328, 0.1554, 0.1475, 0.1398, 0.1574, 0.1165, 0.1297,\n",
      "        0.1627, 0.1302, 0.1217, 0.1366, 0.1556, 0.1205, 0.1300, 0.1375, 0.1314,\n",
      "        0.1310, 0.1448, 0.1606, 0.1534, 0.1196, 0.1248, 0.1348, 0.1217, 0.1314,\n",
      "        0.1382, 0.1293], grad_fn=<MaxBackward0>)\n"
     ]
    }
   ]
  },
  {
   "cell_type": "code",
   "source": [
    "labels"
   ],
   "metadata": {
    "colab": {
     "base_uri": "https://localhost:8080/"
    },
    "id": "zlYprg_tqRng",
    "outputId": "8da05fbc-7d1d-458b-98d5-20d5c7aa9b4d"
   },
   "execution_count": null,
   "outputs": [
    {
     "output_type": "execute_result",
     "data": {
      "text/plain": [
       "tensor([8, 3, 2, 2, 1, 7, 7, 8, 7, 4, 5, 5, 2, 5, 5, 1, 5, 2, 5, 9, 2, 5, 4, 3,\n",
       "        6, 7, 2, 8, 7, 7, 4, 3, 4, 8, 8, 4, 1, 7, 7, 1, 3, 1, 6, 1, 9, 8, 1, 5,\n",
       "        2, 6, 7, 7, 3, 6, 8, 2, 5, 4, 0, 3, 6, 2, 0, 4, 9, 7, 6, 4, 4, 2, 4, 5,\n",
       "        3, 1, 6, 6, 9, 0, 9, 5, 3, 7, 3, 5, 9, 2, 8, 9, 6, 6, 3, 3, 6, 6, 5, 9,\n",
       "        2, 8, 3, 8, 7, 6, 7, 1, 1, 8, 3, 4, 1, 7, 3, 0, 5, 1, 3, 0, 5, 6, 3, 8,\n",
       "        9, 1, 9, 2, 1, 9, 2, 7])"
      ]
     },
     "metadata": {},
     "execution_count": 29
    }
   ]
  },
  {
   "cell_type": "code",
   "source": [
    "def accuracy(outputs, labels):\n",
    "    _, preds = torch.max(outputs, dim = 1)\n",
    "    return(torch.tensor(torch.sum(preds == labels).item()/ len(preds)))\n",
    "\n",
    "print(\"Accuracy: \", accuracy(outputs, labels))\n",
    "print(\"\\n\")\n",
    "loss_fn = F.cross_entropy\n",
    "print(\"Loss Function: \",loss_fn)\n",
    "print(\"\\n\")\n",
    "## Loss for the current batch\n",
    "loss = loss_fn(outputs, labels)\n",
    "print(loss)"
   ],
   "metadata": {
    "colab": {
     "base_uri": "https://localhost:8080/"
    },
    "id": "GwHF4sg_qUyr",
    "outputId": "1bacdddc-031c-4203-f285-ffd1f3cca004"
   },
   "execution_count": null,
   "outputs": [
    {
     "output_type": "stream",
     "name": "stdout",
     "text": [
      "Accuracy:  tensor(0.1641)\n",
      "\n",
      "\n",
      "Loss Function:  <function cross_entropy at 0x7c566837a340>\n",
      "\n",
      "\n",
      "tensor(2.2888, grad_fn=<NllLossBackward0>)\n"
     ]
    }
   ]
  },
  {
   "cell_type": "code",
   "source": [
    "class MnistModel(nn.Module):\n",
    "    def __init__(self):\n",
    "        super().__init__()\n",
    "        self.linear = nn.Linear(input_size, num_classes)\n",
    "\n",
    "    '''\n",
    "      Modifying the input tenser (batch_size, 1, 28, 28) to match input_size dimension of (batch_size, 784) and return predicted outputs of (batch_size, 10)\n",
    "      xb: batch of input images of shape (batch_size, 1, 28, 28)\n",
    "      TODO: When this method is invoked?\n",
    "    '''\n",
    "    def forward(self, xb):\n",
    "        '''\n",
    "          xb.reshape(-1, 784)\n",
    "          Passing -1: to keep the batch size same as input\n",
    "          Passing 784: to flatten the image into a tenser of size (batch_size, 784)\n",
    "        '''\n",
    "        xb = xb.reshape(-1, 784)\n",
    "        '''\n",
    "          Passes the flattened input through the linear layer, producing a tensor of shape (batch_size, 10). Each row contains 10 scores (one for each digit).\n",
    "        '''\n",
    "        out = self.linear(xb)\n",
    "        '''\n",
    "          Return the output tensor\n",
    "        '''\n",
    "        return(out)\n",
    "\n",
    "    def training_step(self, batch):\n",
    "        images, labels = batch\n",
    "        out = self(images)\n",
    "        loss = F.cross_entropy(out, labels)\n",
    "        return(loss)\n",
    "\n",
    "    def validation_step(self, batch):\n",
    "        images, labels = batch\n",
    "        out = self(images)\n",
    "        loss = F.cross_entropy(out, labels)\n",
    "        acc = accuracy(out, labels)\n",
    "        return({'val_loss':loss, 'val_acc': acc})\n",
    "\n",
    "    def validation_epoch_end(self, outputs):\n",
    "        batch_losses = [x['val_loss'] for x in outputs]\n",
    "        epoch_loss = torch.stack(batch_losses).mean()\n",
    "        batch_accs = [x['val_acc'] for x in outputs]\n",
    "        epoch_acc = torch.stack(batch_accs).mean()\n",
    "        return({'val_loss': epoch_loss.item(), 'val_acc' : epoch_acc.item()})\n",
    "\n",
    "    def epoch_end(self, epoch,result):\n",
    "        print(\"Epoch [{}], val_loss: {:.4f}, val_acc: {:.4f}\".format(epoch, result['val_loss'], result['val_acc']))\n",
    "\n",
    "\n",
    "model = MnistModel()"
   ],
   "metadata": {
    "id": "g2BB4IbZqlIy"
   },
   "execution_count": null,
   "outputs": []
  },
  {
   "cell_type": "code",
   "source": [
    "def evaluate(model, val_loader):\n",
    "    outputs = [model.validation_step(batch) for batch in val_loader]\n",
    "    return(model.validation_epoch_end(outputs))\n",
    "\n",
    "def fit(epochs, lr, model, train_loader, val_loader, opt_func = torch.optim.SGD):\n",
    "    history = []\n",
    "    optimizer = opt_func(model.parameters(), lr)\n",
    "    for epoch in range(epochs):\n",
    "        for batch in train_loader:\n",
    "            loss = model.training_step(batch)\n",
    "            loss.backward()\n",
    "            optimizer.step()\n",
    "            optimizer.zero_grad()\n",
    "        result = evaluate(model, val_loader)\n",
    "        model.epoch_end(epoch, result)\n",
    "        history.append(result)\n",
    "    return(history)"
   ],
   "metadata": {
    "id": "cNJLRM2bqoeo"
   },
   "execution_count": null,
   "outputs": []
  },
  {
   "cell_type": "code",
   "source": [
    "result0 = evaluate(model, val_loader)\n",
    "result0"
   ],
   "metadata": {
    "id": "vVq7br6HqvBW"
   },
   "execution_count": null,
   "outputs": []
  },
  {
   "cell_type": "code",
   "source": [
    "history1 = fit(5, 0.001, model, train_loader, val_loader)\n"
   ],
   "metadata": {
    "colab": {
     "base_uri": "https://localhost:8080/"
    },
    "id": "ixqfAJgKqxgf",
    "outputId": "a22c84d9-19b8-4153-ebba-e2f6cd2b819a"
   },
   "outputs": [],
   "execution_count": null
  },
  {
   "cell_type": "code",
   "source": [
    "history2 = fit(5, 0.001, model, train_loader, val_loader)\n"
   ],
   "metadata": {
    "colab": {
     "base_uri": "https://localhost:8080/"
    },
    "id": "jcMgWXZjq3wH",
    "outputId": "49605f35-0749-4e2c-9174-be28723d114f"
   },
   "execution_count": null,
   "outputs": [
    {
     "output_type": "stream",
     "name": "stdout",
     "text": [
      "Epoch [0], val_loss: 1.1137, val_acc: 0.8105\n",
      "Epoch [1], val_loss: 1.0404, val_acc: 0.8171\n",
      "Epoch [2], val_loss: 0.9803, val_acc: 0.8235\n",
      "Epoch [3], val_loss: 0.9303, val_acc: 0.8278\n",
      "Epoch [4], val_loss: 0.8880, val_acc: 0.8313\n"
     ]
    }
   ]
  },
  {
   "cell_type": "code",
   "source": [
    "history3 = fit(5, 0.001, model, train_loader, val_loader)\n"
   ],
   "metadata": {
    "colab": {
     "base_uri": "https://localhost:8080/"
    },
    "id": "flq8t0r-q4UT",
    "outputId": "0c5814cf-6d50-432d-eec5-0eab4a42000c"
   },
   "execution_count": null,
   "outputs": [
    {
     "output_type": "stream",
     "name": "stdout",
     "text": [
      "Epoch [0], val_loss: 0.8517, val_acc: 0.8348\n",
      "Epoch [1], val_loss: 0.8202, val_acc: 0.8378\n",
      "Epoch [2], val_loss: 0.7927, val_acc: 0.8412\n",
      "Epoch [3], val_loss: 0.7683, val_acc: 0.8442\n",
      "Epoch [4], val_loss: 0.7466, val_acc: 0.8457\n"
     ]
    }
   ]
  },
  {
   "cell_type": "code",
   "source": [
    "history4 = fit(5, 0.001, model, train_loader, val_loader)\n"
   ],
   "metadata": {
    "colab": {
     "base_uri": "https://localhost:8080/"
    },
    "id": "uVmXBOgNq4b2",
    "outputId": "2bc3ffce-a7df-401d-f86a-74a630adc452"
   },
   "execution_count": null,
   "outputs": [
    {
     "output_type": "stream",
     "name": "stdout",
     "text": [
      "Epoch [0], val_loss: 0.7272, val_acc: 0.8481\n",
      "Epoch [1], val_loss: 0.7096, val_acc: 0.8501\n",
      "Epoch [2], val_loss: 0.6937, val_acc: 0.8520\n",
      "Epoch [3], val_loss: 0.6791, val_acc: 0.8534\n",
      "Epoch [4], val_loss: 0.6658, val_acc: 0.8543\n"
     ]
    }
   ]
  },
  {
   "cell_type": "code",
   "source": [
    "## Replace these values with your result\n",
    "history = [result0] + history1 + history2 + history3 + history4\n",
    "accuracies = [result['val_acc'] for result in history]\n",
    "plt.plot(accuracies, '-x')\n",
    "plt.xlabel('epoch')\n",
    "plt.ylabel('accuracy')\n",
    "plt.title('Accuracy Vs. No. of epochs')\n"
   ],
   "metadata": {
    "colab": {
     "base_uri": "https://localhost:8080/",
     "height": 490
    },
    "id": "Wffb6Fj_q4jM",
    "outputId": "705f86f0-76e1-44db-eb2c-d2c0f3ac16a4"
   },
   "execution_count": null,
   "outputs": [
    {
     "output_type": "execute_result",
     "data": {
      "text/plain": [
       "Text(0.5, 1.0, 'Accuracy Vs. No. of epochs')"
      ]
     },
     "metadata": {},
     "execution_count": 31
    },
    {
     "output_type": "display_data",
     "data": {
      "text/plain": [
       "<Figure size 640x480 with 1 Axes>"
      ],
      "image/png": "[encoded data removed]"
     },
     "metadata": {}
    }
   ]
  },
  {
   "cell_type": "code",
   "source": [
    "test_dataset = MNIST(root = 'data/', train = False, transform = transforms.ToTensor())\n"
   ],
   "metadata": {
    "id": "WcZDunbDq_pm"
   },
   "execution_count": null,
   "outputs": []
  },
  {
   "cell_type": "code",
   "source": [
    "img, label = test_dataset[0]\n",
    "plt.imshow(img[0], cmap = 'gray')\n",
    "print(\"shape: \", img.shape)\n",
    "print('Label: ', label)"
   ],
   "metadata": {
    "colab": {
     "base_uri": "https://localhost:8080/",
     "height": 466
    },
    "id": "mLaQOsukrGld",
    "outputId": "5dff042d-b924-437f-f652-9e03bb546b5c"
   },
   "execution_count": null,
   "outputs": [
    {
     "output_type": "stream",
     "name": "stdout",
     "text": [
      "shape:  torch.Size([1, 28, 28])\n",
      "Label:  7\n"
     ]
    },
    {
     "output_type": "display_data",
     "data": {
      "text/plain": [
       "<Figure size 640x480 with 1 Axes>"
      ],
      "image/png": "[encoded data removed]"
     },
     "metadata": {}
    }
   ]
  },
  {
   "cell_type": "code",
   "source": [
    "print(img.unsqueeze(0).shape)\n",
    "print(img.shape)"
   ],
   "metadata": {
    "colab": {
     "base_uri": "https://localhost:8080/"
    },
    "id": "P2Oo8rjTrI1u",
    "outputId": "75e2610a-5b81-4d11-c3ba-61d6e658f72f"
   },
   "execution_count": null,
   "outputs": [
    {
     "output_type": "stream",
     "name": "stdout",
     "text": [
      "torch.Size([1, 1, 28, 28])\n",
      "torch.Size([1, 28, 28])\n"
     ]
    }
   ]
  },
  {
   "cell_type": "code",
   "source": [
    "def predict_image(img, model):\n",
    "    xb = img.unsqueeze(0)\n",
    "    yb = model(xb)\n",
    "    _, preds = torch.max(yb, dim = 1)\n",
    "    return(preds[0].item())"
   ],
   "metadata": {
    "id": "BbEZ1sHDrLHf"
   },
   "execution_count": null,
   "outputs": []
  },
  {
   "cell_type": "code",
   "source": [
    "img, label = test_dataset[0]\n",
    "plt.imshow(img[0], cmap = 'gray')\n",
    "print('Label:', label, ', Predicted :', predict_image(img, model))"
   ],
   "metadata": {
    "colab": {
     "base_uri": "https://localhost:8080/",
     "height": 448
    },
    "id": "T_p15jj3rNQn",
    "outputId": "3a0378c0-ce3a-4f2a-b6a9-73e57180cb9e"
   },
   "execution_count": null,
   "outputs": [
    {
     "output_type": "stream",
     "name": "stdout",
     "text": [
      "Label: 7 , Predicted : 7\n"
     ]
    },
    {
     "output_type": "display_data",
     "data": {
      "text/plain": [
       "<Figure size 640x480 with 1 Axes>"
      ],
      "image/png": "[encoded data removed]"
     },
     "metadata": {}
    }
   ]
  },
  {
   "cell_type": "code",
   "source": [
    "img, label = test_dataset[9]\n",
    "plt.imshow(img[0], cmap = 'gray')\n",
    "print(\"Label:\", label, ',Predicted:', predict_image(img, model))"
   ],
   "metadata": {
    "colab": {
     "base_uri": "https://localhost:8080/",
     "height": 448
    },
    "id": "UivhlTlDrxu5",
    "outputId": "fe1d88bf-6e00-422f-f53c-d871a42e3ca3"
   },
   "execution_count": null,
   "outputs": [
    {
     "output_type": "stream",
     "name": "stdout",
     "text": [
      "Label: 9 ,Predicted: 9\n"
     ]
    },
    {
     "output_type": "display_data",
     "data": {
      "text/plain": [
       "<Figure size 640x480 with 1 Axes>"
      ],
      "image/png": "[encoded data removed]"
     },
     "metadata": {}
    }
   ]
  },
  {
   "cell_type": "code",
   "source": [
    "img, label = test_dataset[25]\n",
    "plt.imshow(img[0], cmap = 'gray')\n",
    "print(\"Label:\", label, ',Predicted:', predict_image(img, model))"
   ],
   "metadata": {
    "colab": {
     "base_uri": "https://localhost:8080/",
     "height": 448
    },
    "id": "NRlCCL0hr1BH",
    "outputId": "27eabb6b-f590-44e1-ea90-80406d038119"
   },
   "execution_count": null,
   "outputs": [
    {
     "output_type": "stream",
     "name": "stdout",
     "text": [
      "Label: 0 ,Predicted: 0\n"
     ]
    },
    {
     "output_type": "display_data",
     "data": {
      "text/plain": [
       "<Figure size 640x480 with 1 Axes>"
      ],
      "image/png": "[encoded data removed]"
     },
     "metadata": {}
    }
   ]
  },
  {
   "cell_type": "code",
   "source": [
    "img, label = test_dataset[5000]\n",
    "plt.imshow(img[0], cmap = 'gray')\n",
    "print(\"Label:\", label, ',Predicted:', predict_image(img, model))"
   ],
   "metadata": {
    "colab": {
     "base_uri": "https://localhost:8080/",
     "height": 448
    },
    "id": "Zc9TcUksr4Bv",
    "outputId": "f5abc551-d14a-4fb9-ff7d-4b3e4e3cd2d1"
   },
   "execution_count": null,
   "outputs": [
    {
     "output_type": "stream",
     "name": "stdout",
     "text": [
      "Label: 3 ,Predicted: 3\n"
     ]
    },
    {
     "output_type": "display_data",
     "data": {
      "text/plain": [
       "<Figure size 640x480 with 1 Axes>"
      ],
      "image/png": "[encoded data removed]"
     },
     "metadata": {}
    }
   ]
  },
  {
   "cell_type": "code",
   "source": [
    "test_loader = DataLoader(test_dataset, batch_size = 256)\n",
    "result = evaluate(model, test_loader)\n",
    "result"
   ],
   "metadata": {
    "colab": {
     "base_uri": "https://localhost:8080/"
    },
    "id": "-WufsKX4r6nH",
    "outputId": "f7e29baa-17cf-4d84-bea5-1ff35fe38001"
   },
   "execution_count": null,
   "outputs": [
    {
     "output_type": "execute_result",
     "data": {
      "text/plain": [
       "{'val_loss': 0.6410156488418579, 'val_acc': 0.8612304925918579}"
      ]
     },
     "metadata": {},
     "execution_count": 45
    }
   ]
  },
  {
   "cell_type": "code",
   "source": [
    "torch.save(model.state_dict(), 'mnist-logistic.pth')\n"
   ],
   "metadata": {
    "id": "K9oVVYnOr9cG"
   },
   "execution_count": null,
   "outputs": []
  },
  {
   "cell_type": "code",
   "source": [
    "model.state_dict()\n"
   ],
   "metadata": {
    "colab": {
     "base_uri": "https://localhost:8080/"
    },
    "id": "1FzYSBb4sDdx",
    "outputId": "494d1817-3341-41cc-ebc9-08fbf1116a81"
   },
   "execution_count": null,
   "outputs": [
    {
     "output_type": "execute_result",
     "data": {
      "text/plain": [
       "OrderedDict([('linear.weight',\n",
       "              tensor([[ 0.0249,  0.0007,  0.0112,  ..., -0.0299,  0.0074, -0.0131],\n",
       "                      [-0.0076,  0.0040,  0.0337,  ..., -0.0202, -0.0071, -0.0138],\n",
       "                      [ 0.0357, -0.0276,  0.0064,  ...,  0.0269,  0.0256, -0.0223],\n",
       "                      ...,\n",
       "                      [-0.0045,  0.0109, -0.0172,  ..., -0.0053,  0.0325,  0.0290],\n",
       "                      [ 0.0078, -0.0132,  0.0342,  ..., -0.0303,  0.0226, -0.0132],\n",
       "                      [ 0.0199,  0.0237,  0.0350,  ..., -0.0077, -0.0186, -0.0156]])),\n",
       "             ('linear.bias',\n",
       "              tensor([-0.0432,  0.0914, -0.0325, -0.0148,  0.0245,  0.0723,  0.0217,  0.0339,\n",
       "                      -0.1278,  0.0132]))])"
      ]
     },
     "metadata": {},
     "execution_count": 44
    }
   ]
  },
  {
   "cell_type": "code",
   "source": [
    "model2 = MnistModel()\n",
    "model2.load_state_dict(torch.load('mnist-logistic.pth'))\n",
    "model2.state_dict()\n"
   ],
   "metadata": {
    "colab": {
     "base_uri": "https://localhost:8080/"
    },
    "id": "eJzmPBExsI1N",
    "outputId": "15fa78bf-cee5-4efe-a10c-ae1701e0b88d"
   },
   "execution_count": null,
   "outputs": [
    {
     "output_type": "execute_result",
     "data": {
      "text/plain": [
       "OrderedDict([('linear.weight',\n",
       "              tensor([[ 0.0115,  0.0032, -0.0204,  ..., -0.0331, -0.0273,  0.0216],\n",
       "                      [ 0.0343,  0.0014,  0.0320,  ...,  0.0107,  0.0164,  0.0324],\n",
       "                      [-0.0109, -0.0186,  0.0150,  ..., -0.0065, -0.0329, -0.0074],\n",
       "                      ...,\n",
       "                      [ 0.0333, -0.0154, -0.0076,  ...,  0.0143,  0.0307, -0.0070],\n",
       "                      [ 0.0276,  0.0241, -0.0305,  ..., -0.0318, -0.0133, -0.0347],\n",
       "                      [-0.0215, -0.0116, -0.0075,  ...,  0.0116, -0.0302,  0.0345]])),\n",
       "             ('linear.bias',\n",
       "              tensor([-0.0584,  0.0609, -0.0568, -0.0315,  0.0427,  0.0564, -0.0101,  0.0679,\n",
       "                      -0.0808,  0.0200]))])"
      ]
     },
     "metadata": {},
     "execution_count": 47
    }
   ]
  },
  {
   "cell_type": "code",
   "source": [
    "test_loader = DataLoader(test_dataset, batch_size = 256)\n",
    "result = evaluate(model2, test_loader)\n",
    "result"
   ],
   "metadata": {
    "colab": {
     "base_uri": "https://localhost:8080/"
    },
    "id": "qMgs3bk6sLxK",
    "outputId": "c84fd1b4-b11c-4ee6-dd39-2381b1f621e7"
   },
   "execution_count": null,
   "outputs": [
    {
     "output_type": "execute_result",
     "data": {
      "text/plain": [
       "{'val_loss': 0.643792450428009, 'val_acc': 0.858691394329071}"
      ]
     },
     "metadata": {},
     "execution_count": 46
    }
   ]
  },
  {
   "cell_type": "code",
   "source": [
    "img, label = test_dataset[5000]\n",
    "plt.imshow(img[0], cmap = 'gray')\n",
    "print(\"Label:\", label, ',Predicted:', predict_image(img, model2))"
   ],
   "metadata": {
    "colab": {
     "base_uri": "https://localhost:8080/",
     "height": 448
    },
    "id": "o0ThtuxcuFmj",
    "outputId": "eb91ed55-0061-4fb1-efa8-7e33e6b60ff1"
   },
   "execution_count": null,
   "outputs": [
    {
     "output_type": "stream",
     "name": "stdout",
     "text": [
      "Label: 3 ,Predicted: 3\n"
     ]
    },
    {
     "output_type": "display_data",
     "data": {
      "text/plain": [
       "<Figure size 640x480 with 1 Axes>"
      ],
      "image/png": "[encoded data removed]"
     },
     "metadata": {}
    }
   ]
  }
 ]
}
